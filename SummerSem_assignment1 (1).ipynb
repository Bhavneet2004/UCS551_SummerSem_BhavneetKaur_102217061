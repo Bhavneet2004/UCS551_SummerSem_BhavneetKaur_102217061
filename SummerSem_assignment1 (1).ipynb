{
 "cells": [
  {
   "cell_type": "markdown",
   "id": "4d2a2c39-d56f-4fdd-9b1a-11d769c0c6c7",
   "metadata": {},
   "source": [
    "Q1 NumPy – Array Operations\r\n",
    "Write a program using NumPy to:\r\n",
    "• Create a 2D array of size (5,5) with random integers between 10 and\r\n",
    "100.\r\n",
    "• Replace all even numbers in the array with -1.\r\n",
    "• Find the row-wise and column-wise sum and mean.\r\n",
    "• Flatten the array and sort the elements in descending order"
   ]
  },
  {
   "cell_type": "code",
   "execution_count": 1,
   "id": "7af31088-4003-4072-92f5-8c96d91b111b",
   "metadata": {},
   "outputs": [],
   "source": [
    "import numpy as np"
   ]
  },
  {
   "cell_type": "code",
   "execution_count": 5,
   "id": "548cdf15-960d-453b-bcd7-6172203f6737",
   "metadata": {},
   "outputs": [
    {
     "name": "stdout",
     "output_type": "stream",
     "text": [
      "Array:\n",
      "[[12 98 13 42 47]\n",
      " [29 23 31 47 47]\n",
      " [52 13 63 39 98]\n",
      " [83 13 86 22 61]\n",
      " [51 60 26 43 24]]\n"
     ]
    }
   ],
   "source": [
    "# Step 1: Create a 2D array of size (5, 5) with random integers between 10 and 100\n",
    "array = np.random.randint(10, 101, size=(5, 5))\n",
    "print(\"Array:\")\n",
    "print(array)"
   ]
  },
  {
   "cell_type": "code",
   "execution_count": 7,
   "id": "6536102d-0838-4fdd-bb6d-112ffedd7542",
   "metadata": {},
   "outputs": [
    {
     "name": "stdout",
     "output_type": "stream",
     "text": [
      "\n",
      "Array After Replacing Even Numbers with -1:\n",
      "[[-1 -1 13 -1 47]\n",
      " [29 23 31 47 47]\n",
      " [-1 13 63 39 -1]\n",
      " [83 13 -1 -1 61]\n",
      " [51 -1 -1 43 -1]]\n"
     ]
    }
   ],
   "source": [
    "# Step 2: Replace all even numbers in the array with -1\n",
    "array_with_replacement = np.where(array % 2 == 0, -1, array)\n",
    "print(\"\\nArray After Replacing Even Numbers with -1:\")\n",
    "print(array_with_replacement)"
   ]
  },
  {
   "cell_type": "code",
   "execution_count": 9,
   "id": "3679f3c3-9ec3-4bc1-af4d-515eb65f2fe4",
   "metadata": {},
   "outputs": [],
   "source": [
    "# Step 3: Find row-wise and column-wise sum and mean\n",
    "row_sums = array_with_replacement.sum(axis=1)\n",
    "col_sums = array_with_replacement.sum(axis=0)\n",
    "row_means = array_with_replacement.mean(axis=1)\n",
    "col_means = array_with_replacement.mean(axis=0)"
   ]
  },
  {
   "cell_type": "code",
   "execution_count": 11,
   "id": "6fe555a8-4ecd-4e57-9e2c-dc576a827b4b",
   "metadata": {},
   "outputs": [
    {
     "name": "stdout",
     "output_type": "stream",
     "text": [
      "\n",
      "Row-wise Sum: [ 57 177 113 155  91]\n",
      "Column-wise Sum: [161  47 105 127 153]\n",
      "Row-wise Mean: [11.4 35.4 22.6 31.  18.2]\n",
      "Column-wise Mean: [32.2  9.4 21.  25.4 30.6]\n"
     ]
    }
   ],
   "source": [
    "print(\"\\nRow-wise Sum:\", row_sums)\n",
    "print(\"Column-wise Sum:\", col_sums)\n",
    "print(\"Row-wise Mean:\", row_means)\n",
    "print(\"Column-wise Mean:\", col_means)"
   ]
  },
  {
   "cell_type": "code",
   "execution_count": 13,
   "id": "97e4bbdd-6186-4949-8b6e-fca6c7951018",
   "metadata": {},
   "outputs": [
    {
     "name": "stdout",
     "output_type": "stream",
     "text": [
      "\n",
      "Flattened Array Sorted in Descending Order:\n",
      "[83 63 61 51 47 47 47 43 39 31 29 23 13 13 13 -1 -1 -1 -1 -1 -1 -1 -1 -1\n",
      " -1]\n"
     ]
    }
   ],
   "source": [
    "# Step 4: Flatten the array and sort the elements in descending order\n",
    "flattened_sorted = np.sort(array_with_replacement.flatten())[::-1]\n",
    "print(\"\\nFlattened Array Sorted in Descending Order:\")\n",
    "print(flattened_sorted)"
   ]
  },
  {
   "cell_type": "markdown",
   "id": "c8d7e04f-b9e0-4736-9358-0de40bbfd9d8",
   "metadata": {},
   "source": [
    "Q2 : Pandas – Data Handling & Analysis\r\n",
    "Dataset to Use: Students Performance in Exams\r\n",
    "Kaggle Link: https://www.kaggle.com/datasets/spscientist/studentsperformance-in-exams\r\n",
    "Instructions:\r\n",
    "• Download and load the dataset StudentsPerformance.csv using Pandas.\r\n",
    "• Display basic statistics (mean, median, std) for math, reading  and\r\n",
    "writing scores.\r\n",
    "• Add a new column Overall_Score as the average of the three scores.\r\n",
    "• Create a column Result:\r\n",
    "o \"Pass\" if all scores are ≥ 40,\r\n",
    "o otherwi\n",
    "• Find the group-wise average scores by gender and parental level of\r\n",
    "education.\r\n",
    "• Visualize the average math score for each test preparation course\r\n",
    "category using a bar plot.se \"Fail\"."
   ]
  },
  {
   "cell_type": "code",
   "execution_count": 3,
   "id": "5f328861-1a0f-4e72-bf44-3ffdaf8ebdea",
   "metadata": {},
   "outputs": [],
   "source": [
    "import pandas as pd\n",
    "import matplotlib.pyplot as plt"
   ]
  },
  {
   "cell_type": "code",
   "execution_count": 5,
   "id": "bcb22c4f-488c-4c1d-95e6-d75c32925fba",
   "metadata": {},
   "outputs": [],
   "source": [
    "# Step 1: Load the dataset\n",
    "data = pd.read_csv(\"StudentsPerformance.csv\")"
   ]
  },
  {
   "cell_type": "code",
   "execution_count": 7,
   "id": "311c50c2-1c21-42db-8ded-64906e49164a",
   "metadata": {},
   "outputs": [
    {
     "name": "stdout",
     "output_type": "stream",
     "text": [
      "Basic Statistics:\n",
      "Math Scores:\n",
      "count    1000.00000\n",
      "mean       66.08900\n",
      "std        15.16308\n",
      "min         0.00000\n",
      "25%        57.00000\n",
      "50%        66.00000\n",
      "75%        77.00000\n",
      "max       100.00000\n",
      "Name: math score, dtype: float64\n",
      "\n",
      "Reading Scores:\n",
      "count    1000.000000\n",
      "mean       69.169000\n",
      "std        14.600192\n",
      "min        17.000000\n",
      "25%        59.000000\n",
      "50%        70.000000\n",
      "75%        79.000000\n",
      "max       100.000000\n",
      "Name: reading score, dtype: float64\n",
      "\n",
      "Writing Scores:\n",
      "count    1000.000000\n",
      "mean       68.054000\n",
      "std        15.195657\n",
      "min        10.000000\n",
      "25%        57.750000\n",
      "50%        69.000000\n",
      "75%        79.000000\n",
      "max       100.000000\n",
      "Name: writing score, dtype: float64\n"
     ]
    }
   ],
   "source": [
    "# Step 2: Display basic statistics for math, reading, and writing scores\n",
    "print(\"Basic Statistics:\")\n",
    "print(\"Math Scores:\")\n",
    "print(data['math score'].describe())\n",
    "print(\"\\nReading Scores:\")\n",
    "print(data['reading score'].describe())\n",
    "print(\"\\nWriting Scores:\")\n",
    "print(data['writing score'].describe())"
   ]
  },
  {
   "cell_type": "code",
   "execution_count": 9,
   "id": "0ad9bc28-48fc-4c1f-b25f-e6731f559ed8",
   "metadata": {},
   "outputs": [],
   "source": [
    "# Step 3: Add a new column `Overall_Score` as the average of the three scores\n",
    "data['Overall_Score'] = data[['math score', 'reading score', 'writing score']].mean(axis=1)"
   ]
  },
  {
   "cell_type": "code",
   "execution_count": 11,
   "id": "1b531c22-5262-42ee-aa30-5c8ecbcf2d02",
   "metadata": {},
   "outputs": [],
   "source": [
    "# Step 4: Create a column `Result`\n",
    "data['Result'] = data.apply(\n",
    "    lambda row: 'Pass' if row['math score'] >= 40 and row['reading score'] >= 40 and row['writing score'] >= 40 else 'Fail',\n",
    "    axis=1\n",
    ")"
   ]
  },
  {
   "cell_type": "code",
   "execution_count": 13,
   "id": "39b947f9-e896-4803-ab56-147075d65c8d",
   "metadata": {},
   "outputs": [
    {
     "name": "stdout",
     "output_type": "stream",
     "text": [
      "\n",
      "Group-wise Average Scores by Gender and Parental Level of Education:\n",
      "                                    math score  reading score  writing score\n",
      "gender parental level of education                                          \n",
      "female associate's degree            65.250000      74.120690      74.000000\n",
      "       bachelor's degree             68.349206      77.285714      78.380952\n",
      "       high school                   59.351064      68.202128      66.691489\n",
      "       master's degree               66.500000      76.805556      77.638889\n",
      "       some college                  65.406780      73.550847      74.050847\n",
      "       some high school              59.296703      69.109890      68.285714\n",
      "male   associate's degree            70.764151      67.433962      65.405660\n",
      "       bachelor's degree             70.581818      68.090909      67.654545\n",
      "       high school                   64.705882      61.480392      58.539216\n",
      "       master's degree               74.826087      73.130435      72.608696\n",
      "       some college                  69.009259      64.990741      63.148148\n",
      "       some high school              67.840909      64.693182      61.375000\n"
     ]
    }
   ],
   "source": [
    "# Step 5: Find the group-wise average scores by gender and parental level of education\n",
    "grouped_averages = data.groupby(['gender', 'parental level of education'])[['math score', 'reading score', 'writing score']].mean()\n",
    "print(\"\\nGroup-wise Average Scores by Gender and Parental Level of Education:\")\n",
    "print(grouped_averages)"
   ]
  },
  {
   "cell_type": "code",
   "execution_count": 15,
   "id": "ed56f33e-773a-4601-878f-5eb66bf8d375",
   "metadata": {},
   "outputs": [],
   "source": [
    "# Step 6: Visualize the average math score for each test preparation course category using a bar plot\n",
    "average_math_scores = data.groupby('test preparation course')['math score'].mean()"
   ]
  },
  {
   "cell_type": "code",
   "execution_count": 17,
   "id": "ac1f7637-b44b-465c-b671-7f12e40f52c1",
   "metadata": {},
   "outputs": [
    {
     "data": {
      "image/png": "[encoded data removed]",
      "text/plain": [
       "<Figure size 800x600 with 1 Axes>"
      ]
     },
     "metadata": {},
     "output_type": "display_data"
    }
   ],
   "source": [
    "# Bar Plot\n",
    "plt.figure(figsize=(8, 6))\n",
    "average_math_scores.plot(kind='bar', color=['skyblue', 'orange'])\n",
    "plt.title(\"Average Math Score by Test Preparation Course\")\n",
    "plt.ylabel(\"Average Math Score\")\n",
    "plt.xlabel(\"Test Preparation Course\")\n",
    "plt.xticks(rotation=0)\n",
    "plt.show()"
   ]
  },
  {
   "cell_type": "markdown",
   "id": "772f0e37-9cbd-40af-b5de-da209818c953",
   "metadata": {},
   "source": [
    "Q3: SciPy – Optimization and Linear Algebra\r\n",
    "Using SciPy:\r\n",
    "• Solve the system of equations using scipy.linalg.solve:\r\n",
    "3x+2y=16\r\n",
    "4x−y=9\r\n",
    "• Use scipy.optimize.minimize to minimize the function:\r\n",
    "f(x)=(x−3)2+2\r\n",
    "(Start with initial guess x = 0)\r\n",
    "Show final optimized value and function plot using Matplotlib.\r"
   ]
  },
  {
   "cell_type": "code",
   "execution_count": 19,
   "id": "aa9f1276-55fb-4ecb-aaed-579f339c289d",
   "metadata": {},
   "outputs": [],
   "source": [
    "import numpy as np\n",
    "import matplotlib.pyplot as plt\n",
    "from scipy.linalg import solve\n",
    "from scipy.optimize import minimize"
   ]
  },
  {
   "cell_type": "code",
   "execution_count": 21,
   "id": "a840a2df-edef-4e0b-9c92-12c219c09ad9",
   "metadata": {},
   "outputs": [
    {
     "name": "stdout",
     "output_type": "stream",
     "text": [
      "Solution to the system of equations:\n",
      "x = 3.09, y = 3.36\n"
     ]
    }
   ],
   "source": [
    "# Part 1: Solve the system of equations\n",
    "# Coefficients matrix and constants vector\n",
    "A = np.array([[3, 2], [4, -1]])\n",
    "b = np.array([16, 9])\n",
    "\n",
    "# Solve the linear system\n",
    "solution = solve(A, b)\n",
    "print(\"Solution to the system of equations:\")\n",
    "print(f\"x = {solution[0]:.2f}, y = {solution[1]:.2f}\")"
   ]
  },
  {
   "cell_type": "code",
   "execution_count": 23,
   "id": "b1ed4bb1-7bde-4639-9f6c-66ba51979040",
   "metadata": {},
   "outputs": [
    {
     "name": "stdout",
     "output_type": "stream",
     "text": [
      "\n",
      "Minimization Results:\n",
      "Optimized x = 3.00\n",
      "Minimum value of f(x) = 2.00\n"
     ]
    }
   ],
   "source": [
    "# Part 2: Minimize the function f(x) = (x-3)^2 + 2\n",
    "def f(x):\n",
    "    return (x - 3)**2 + 2\n",
    "\n",
    "# Initial guess\n",
    "initial_guess = [0]\n",
    "\n",
    "# Minimize the function\n",
    "result = minimize(f, initial_guess)\n",
    "\n",
    "# Extract optimized value\n",
    "optimized_x = result.x[0]\n",
    "optimized_f = result.fun\n",
    "\n",
    "print(\"\\nMinimization Results:\")\n",
    "print(f\"Optimized x = {optimized_x:.2f}\")\n",
    "print(f\"Minimum value of f(x) = {optimized_f:.2f}\")"
   ]
  },
  {
   "cell_type": "code",
   "execution_count": 25,
   "id": "299759d9-5d39-4815-a9ab-e25257cbe787",
   "metadata": {},
   "outputs": [
    {
     "data": {
      "image/png": "[encoded data removed]",
      "text/plain": [
       "<Figure size 800x600 with 1 Axes>"
      ]
     },
     "metadata": {},
     "output_type": "display_data"
    }
   ],
   "source": [
    "# Plot the function\n",
    "x_vals = np.linspace(-5, 10, 500)\n",
    "y_vals = f(x_vals)\n",
    "\n",
    "plt.figure(figsize=(8, 6))\n",
    "plt.plot(x_vals, y_vals, label=\"f(x) = (x-3)^2 + 2\", color=\"blue\")\n",
    "plt.scatter(optimized_x, optimized_f, color=\"red\", label=f\"Min: x={optimized_x:.2f}, f(x)={optimized_f:.2f}\")\n",
    "plt.title(\"Minimization of f(x)\")\n",
    "plt.xlabel(\"x\")\n",
    "plt.ylabel(\"f(x)\")\n",
    "plt.legend()\n",
    "plt.grid(True)\n",
    "plt.show()"
   ]
  },
  {
   "cell_type": "markdown",
   "id": "fa36bfca-1176-4e63-80a6-0066d11ec937",
   "metadata": {},
   "source": [
    "Q4. Implement Logistic Regression and kNN on the Iris dataset (Scikit-learn).\r\n",
    "Evaluate using accuracy score, confusion matrix, and classification report."
   ]
  },
  {
   "cell_type": "code",
   "execution_count": 27,
   "id": "589830ef-5c4a-4706-a797-6cfcede1008b",
   "metadata": {},
   "outputs": [],
   "source": [
    "from sklearn.datasets import load_iris\n",
    "from sklearn.model_selection import train_test_split\n",
    "from sklearn.preprocessing import StandardScaler\n",
    "from sklearn.linear_model import LogisticRegression\n",
    "from sklearn.neighbors import KNeighborsClassifier\n",
    "from sklearn.metrics import accuracy_score, confusion_matrix, classification_report"
   ]
  },
  {
   "cell_type": "code",
   "execution_count": 29,
   "id": "87a1a6d7-e6f8-434d-90f7-648858080da8",
   "metadata": {},
   "outputs": [],
   "source": [
    "# Load the Iris dataset\n",
    "iris = load_iris()\n",
    "X, y = iris.data, iris.target\n",
    "\n",
    "# Split the dataset into training and testing sets\n",
    "X_train, X_test, y_train, y_test = train_test_split(X, y, test_size=0.3, random_state=42, stratify=y)"
   ]
  },
  {
   "cell_type": "code",
   "execution_count": 31,
   "id": "dba4b2dd-3be5-47c6-b625-77ebc3c18447",
   "metadata": {},
   "outputs": [],
   "source": [
    "# Standardize the dataset\n",
    "scaler = StandardScaler()\n",
    "X_train = scaler.fit_transform(X_train)\n",
    "X_test = scaler.transform(X_test)"
   ]
  },
  {
   "cell_type": "code",
   "execution_count": 33,
   "id": "5f91dd61-9b6e-4bf9-bd62-a8a9f91169ac",
   "metadata": {},
   "outputs": [],
   "source": [
    "# Logistic Regression\n",
    "logistic_model = LogisticRegression(max_iter=200)\n",
    "logistic_model.fit(X_train, y_train)\n",
    "y_pred_logistic = logistic_model.predict(X_test)"
   ]
  },
  {
   "cell_type": "code",
   "execution_count": 35,
   "id": "21df38d1-8a32-4cdc-a818-f9c32da40cf8",
   "metadata": {},
   "outputs": [],
   "source": [
    "# k-Nearest Neighbors (kNN)\n",
    "knn_model = KNeighborsClassifier(n_neighbors=5)\n",
    "knn_model.fit(X_train, y_train)\n",
    "y_pred_knn = knn_model.predict(X_test)"
   ]
  },
  {
   "cell_type": "code",
   "execution_count": 37,
   "id": "343dbb2f-df9d-40e3-83d9-1cb63c1e2421",
   "metadata": {},
   "outputs": [
    {
     "name": "stdout",
     "output_type": "stream",
     "text": [
      "Logistic Regression:\n",
      "Accuracy: 0.91\n",
      "Confusion Matrix:\n",
      "[[15  0  0]\n",
      " [ 0 14  1]\n",
      " [ 0  3 12]]\n",
      "Classification Report:\n",
      "              precision    recall  f1-score   support\n",
      "\n",
      "      setosa       1.00      1.00      1.00        15\n",
      "  versicolor       0.82      0.93      0.88        15\n",
      "   virginica       0.92      0.80      0.86        15\n",
      "\n",
      "    accuracy                           0.91        45\n",
      "   macro avg       0.92      0.91      0.91        45\n",
      "weighted avg       0.92      0.91      0.91        45\n",
      "\n"
     ]
    }
   ],
   "source": [
    "# Evaluate Logistic Regression\n",
    "print(\"Logistic Regression:\")\n",
    "print(f\"Accuracy: {accuracy_score(y_test, y_pred_logistic):.2f}\")\n",
    "print(\"Confusion Matrix:\")\n",
    "print(confusion_matrix(y_test, y_pred_logistic))\n",
    "print(\"Classification Report:\")\n",
    "print(classification_report(y_test, y_pred_logistic, target_names=iris.target_names))"
   ]
  },
  {
   "cell_type": "code",
   "execution_count": 39,
   "id": "fabe63fe-45f3-47a3-a136-392db117ce9c",
   "metadata": {},
   "outputs": [
    {
     "name": "stdout",
     "output_type": "stream",
     "text": [
      "\n",
      "k-Nearest Neighbors (kNN):\n",
      "Accuracy: 0.91\n",
      "Confusion Matrix:\n",
      "[[15  0  0]\n",
      " [ 0 15  0]\n",
      " [ 0  4 11]]\n",
      "Classification Report:\n",
      "              precision    recall  f1-score   support\n",
      "\n",
      "      setosa       1.00      1.00      1.00        15\n",
      "  versicolor       0.79      1.00      0.88        15\n",
      "   virginica       1.00      0.73      0.85        15\n",
      "\n",
      "    accuracy                           0.91        45\n",
      "   macro avg       0.93      0.91      0.91        45\n",
      "weighted avg       0.93      0.91      0.91        45\n",
      "\n"
     ]
    }
   ],
   "source": [
    "# Evaluate kNN\n",
    "print(\"\\nk-Nearest Neighbors (kNN):\")\n",
    "print(f\"Accuracy: {accuracy_score(y_test, y_pred_knn):.2f}\")\n",
    "print(\"Confusion Matrix:\")\n",
    "print(confusion_matrix(y_test, y_pred_knn))\n",
    "print(\"Classification Report:\")\n",
    "print(classification_report(y_test, y_pred_knn, target_names=iris.target_names))"
   ]
  },
  {
   "cell_type": "code",
   "execution_count": null,
   "id": "3fdaef70-1def-475e-9227-b8691316014a",
   "metadata": {},
   "outputs": [],
   "source": []
  }
 ],
 "metadata": {
  "kernelspec": {
   "display_name": "Python 3 (ipykernel)",
   "language": "python",
   "name": "python3"
  },
  "language_info": {
   "codemirror_mode": {
    "name": "ipython",
    "version": 3
   },
   "file_extension": ".py",
   "mimetype": "text/x-python",
   "name": "python",
   "nbconvert_exporter": "python",
   "pygments_lexer": "ipython3",
   "version": "3.12.4"
  }
 },
 "nbformat": 4,
 "nbformat_minor": 5
}
