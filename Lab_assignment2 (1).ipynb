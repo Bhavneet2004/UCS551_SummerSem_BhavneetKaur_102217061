{
 "cells": [
  {
   "cell_type": "markdown",
   "id": "751f2662-c61a-4de5-b012-9c393965a846",
   "metadata": {},
   "source": [
    "1. Web Scraping with BeautifulSoup - Scrape the titles and prices of the first\n",
    "10 books listed on https://books.toscrape.com.\n",
    "• Use requests and BeautifulSoup.\n",
    "• Extract and print book title and price.\n",
    "• Save results to a CSV file."
   ]
  },
  {
   "cell_type": "code",
   "execution_count": 1,
   "id": "693b9511-d901-4c62-8157-8b98fdfa6a74",
   "metadata": {},
   "outputs": [],
   "source": [
    "import requests\n",
    "from bs4 import BeautifulSoup\n",
    "import csv"
   ]
  },
  {
   "cell_type": "code",
   "execution_count": 3,
   "id": "1567b5f5-9486-4e0b-9688-ddddcb3721d3",
   "metadata": {},
   "outputs": [],
   "source": [
    "url = \"https://books.toscrape.com/\"\n",
    "response = requests.get(url)\n",
    "soup = BeautifulSoup(response.text, 'html.parser')"
   ]
  },
  {
   "cell_type": "code",
   "execution_count": 5,
   "id": "47fae956-b3e4-47ba-ad20-3e5c9a2832aa",
   "metadata": {},
   "outputs": [],
   "source": [
    "books = soup.find_all('article', class_='product_pod')"
   ]
  },
  {
   "cell_type": "code",
   "execution_count": 7,
   "id": "5b0932e6-7a07-465f-9d30-8d1e432e9ce0",
   "metadata": {},
   "outputs": [],
   "source": [
    "book_data = []"
   ]
  },
  {
   "cell_type": "code",
   "execution_count": 9,
   "id": "cfce6bd4-e86a-42a6-87e3-381a55ac6638",
   "metadata": {},
   "outputs": [
    {
     "name": "stdout",
     "output_type": "stream",
     "text": [
      "Title: A Light in the Attic, Price: Â£51.77\n",
      "Title: Tipping the Velvet, Price: Â£53.74\n",
      "Title: Soumission, Price: Â£50.10\n",
      "Title: Sharp Objects, Price: Â£47.82\n",
      "Title: Sapiens: A Brief History of Humankind, Price: Â£54.23\n",
      "Title: The Requiem Red, Price: Â£22.65\n",
      "Title: The Dirty Little Secrets of Getting Your Dream Job, Price: Â£33.34\n",
      "Title: The Coming Woman: A Novel Based on the Life of the Infamous Feminist, Victoria Woodhull, Price: Â£17.93\n",
      "Title: The Boys in the Boat: Nine Americans and Their Epic Quest for Gold at the 1936 Berlin Olympics, Price: Â£22.60\n",
      "Title: The Black Maria, Price: Â£52.15\n"
     ]
    }
   ],
   "source": [
    "for book in books[:10]:\n",
    "    title = book.h3.a['title']\n",
    "    price = book.find('p', class_='price_color').text\n",
    "    book_data.append([title, price])\n",
    "    print(f\"Title: {title}, Price: {price}\")"
   ]
  },
  {
   "cell_type": "code",
   "execution_count": 11,
   "id": "69fd01ca-454b-40ba-b332-d1c2b8565120",
   "metadata": {},
   "outputs": [],
   "source": [
    "csv_filename = 'books.csv'\n",
    "with open(csv_filename, 'w', newline='', encoding='utf-8') as file:\n",
    "    writer = csv.writer(file)\n",
    "    writer.writerow(['Title', 'Price'])\n",
    "    writer.writerows(book_data)"
   ]
  },
  {
   "cell_type": "code",
   "execution_count": 13,
   "id": "c97b2378-9b56-4ccd-b2b7-9133fa1ee068",
   "metadata": {},
   "outputs": [
    {
     "name": "stdout",
     "output_type": "stream",
     "text": [
      "\n",
      "Data saved to books.csv\n"
     ]
    }
   ],
   "source": [
    "print(f\"\\nData saved to {csv_filename}\")"
   ]
  },
  {
   "cell_type": "markdown",
   "id": "60e029b8-551f-40e1-9e99-8053ed6eec0e",
   "metadata": {},
   "source": [
    "Q2: API-Based News Collection - Use the NewsAPI to collect the top 10\n",
    "headlines related to \"Technology\" in India.\n",
    "• Use the requests library.\n",
    "• Extract title, source, and publication date.\n",
    "• Save the results in JSON format."
   ]
  },
  {
   "cell_type": "code",
   "execution_count": 15,
   "id": "30a2b848-cd1d-4c6a-84a4-bafb5a7e9c80",
   "metadata": {},
   "outputs": [],
   "source": [
    "import requests\n",
    "import json"
   ]
  },
  {
   "cell_type": "code",
   "execution_count": 29,
   "id": "0ec955c7-3fed-41b1-884b-d18bc121d319",
   "metadata": {},
   "outputs": [],
   "source": [
    "api_key = 'e62cc84c3386400189d1a068d7c6f1ed'  \n",
    "url = ('https://newsapi.org/v2/top-headlines?'\n",
    "       'category=technology&'\n",
    "       'country=in&'\n",
    "       'pageSize=10&'\n",
    "       f'apiKey={api_key}')"
   ]
  },
  {
   "cell_type": "code",
   "execution_count": 31,
   "id": "2b473bc5-f0cc-4fba-b325-fe0c0d5b1d82",
   "metadata": {},
   "outputs": [],
   "source": [
    "response = requests.get(url)"
   ]
  },
  {
   "cell_type": "code",
   "execution_count": 35,
   "id": "aa80fdf4-ef17-41c7-af1d-681693d6a0ca",
   "metadata": {},
   "outputs": [
    {
     "name": "stdout",
     "output_type": "stream",
     "text": [
      "News data saved to 'technology_news_india.json'\n"
     ]
    }
   ],
   "source": [
    "if response.status_code == 200:\n",
    "    data = response.json()\n",
    "    articles = data['articles']\n",
    "\n",
    "    results = []\n",
    "    for article in articles:\n",
    "        info = {\n",
    "            'title': article['title'],\n",
    "            'source': article['source']['name'],\n",
    "            'publishedAt': article['publishedAt']\n",
    "        }\n",
    "        results.append(info)\n",
    "        print(f\"Title: {info['title']}\\nSource: {info['source']}\\nPublished At: {info['publishedAt']}\\n\")\n",
    "    with open('technology_news_india.json', 'w', encoding='utf-8') as f:\n",
    "        json.dump(results, f, indent=4)\n",
    "\n",
    "    print(\"News data saved to 'technology_news_india.json'\")\n",
    "else:\n",
    "    print(f\"Failed to fetch news. Status Code: {response.status_code}\")"
   ]
  },
  {
   "cell_type": "markdown",
   "id": "142736d0-bf31-4738-820f-761f8dc12e1b",
   "metadata": {},
   "source": [
    "Q3: Weather Data Collection (OpenWeather API) - Fetch the current weather for\n",
    "5 Indian cities using OpenWeatherMap API.\n",
    "• Collect temperature, humidity, and weather condition.\n",
    "• Present results in a Pandas DataFrame.\n",
    "• Plot a bar chart of temperatures using matplotlib."
   ]
  },
  {
   "cell_type": "code",
   "execution_count": 37,
   "id": "7cf1e45e-986d-42a7-a926-a7f9d5951659",
   "metadata": {},
   "outputs": [],
   "source": [
    "import requests\n",
    "import pandas as pd\n",
    "import matplotlib.pyplot as plt"
   ]
  },
  {
   "cell_type": "code",
   "execution_count": 69,
   "id": "88097834-947a-467f-929d-f7f95f85cd97",
   "metadata": {},
   "outputs": [],
   "source": [
    "api_key = '0af8551aa4485e6cc428ce2ded74c849'"
   ]
  },
  {
   "cell_type": "code",
   "execution_count": 71,
   "id": "30b5f5be-f9a4-4941-ac8d-16d930038fb6",
   "metadata": {},
   "outputs": [],
   "source": [
    "cities = ['Delhi', 'Mumbai', 'Chennai', 'Kolkata', 'Bangalore']"
   ]
  },
  {
   "cell_type": "code",
   "execution_count": 73,
   "id": "830547ee-6d66-4baa-94de-02b07b0a4e25",
   "metadata": {},
   "outputs": [],
   "source": [
    "base_url = 'https://api.openweathermap.org/data/2.5/weather'"
   ]
  },
  {
   "cell_type": "code",
   "execution_count": 75,
   "id": "f01c8b1d-67b7-4379-95ef-26c39e9201b1",
   "metadata": {},
   "outputs": [],
   "source": [
    "weather_data = []"
   ]
  },
  {
   "cell_type": "code",
   "execution_count": 81,
   "id": "be79e818-5194-4b81-8a94-41dc712a715e",
   "metadata": {},
   "outputs": [
    {
     "name": "stdout",
     "output_type": "stream",
     "text": [
      "\n",
      "Weather Data:\n",
      "       City  Temperature (°C)  Humidity (%)        Condition\n",
      "0     Delhi             33.10            62    Broken Clouds\n",
      "1       Leh             15.29            52    Broken Clouds\n",
      "2  Srinagar             21.35            77    Broken Clouds\n",
      "3     Jammu             31.53            60    Broken Clouds\n",
      "4    Punjab             37.27            42  Overcast Clouds\n"
     ]
    }
   ],
   "source": [
    "for city in cities:\n",
    "    try:\n",
    "        params = {\n",
    "            'q': city,\n",
    "            'appid': api_key,\n",
    "            'units': 'metric'\n",
    "        }\n",
    "        response = requests.get(url, params=params)\n",
    "        response.raise_for_status()\n",
    "\n",
    "        data = response.json()\n",
    "\n",
    "        city_name = data['name']\n",
    "        temp = data['main']['temp']\n",
    "        humidity = data['main']['humidity']\n",
    "        condition = data['weather'][0]['description']\n",
    "\n",
    "        weather_data.append({\n",
    "            'City': city_name,\n",
    "            'Temperature (°C)': temp,\n",
    "            'Humidity (%)': humidity,\n",
    "            'Condition': condition.title()\n",
    "        })\n",
    "\n",
    "    except:\n",
    "       print(f\"Error fetching data \")\n",
    "\n",
    "# Create DataFrame\n",
    "df = pd.DataFrame(weather_data)\n",
    "print(\"\\nWeather Data:\")\n",
    "print(df)"
   ]
  },
  {
   "cell_type": "code",
   "execution_count": 83,
   "id": "bea08900-768b-4c6a-9aa0-5862a88bad1d",
   "metadata": {},
   "outputs": [
    {
     "data": {
      "image/png": "[encoded data removed]",
      "text/plain": [
       "<Figure size 1000x600 with 1 Axes>"
      ]
     },
     "metadata": {},
     "output_type": "display_data"
    }
   ],
   "source": [
    "plt.figure(figsize=(10, 6))\n",
    "plt.bar(df['City'], df['Temperature (°C)'], color='skyblue')\n",
    "plt.xlabel('City')\n",
    "plt.ylabel('Temperature (°C)')\n",
    "plt.title('Current Temperature in Indian Cities')\n",
    "plt.grid(axis='y', linestyle='--', alpha=0.7)\n",
    "plt.tight_layout()\n",
    "plt.show()"
   ]
  },
  {
   "cell_type": "code",
   "execution_count": null,
   "id": "ef72b1a0-ebb8-4eea-97a2-de2d2085ef13",
   "metadata": {},
   "outputs": [],
   "source": []
  }
 ],
 "metadata": {
  "kernelspec": {
   "display_name": "Python 3 (ipykernel)",
   "language": "python",
   "name": "python3"
  },
  "language_info": {
   "codemirror_mode": {
    "name": "ipython",
    "version": 3
   },
   "file_extension": ".py",
   "mimetype": "text/x-python",
   "name": "python",
   "nbconvert_exporter": "python",
   "pygments_lexer": "ipython3",
   "version": "3.12.4"
  }
 },
 "nbformat": 4,
 "nbformat_minor": 5
}
