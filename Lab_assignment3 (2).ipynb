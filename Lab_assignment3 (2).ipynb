{
  "nbformat": 4,
  "nbformat_minor": 0,
  "metadata": {
    "colab": {
      "provenance": [],
      "gpuType": "T4"
    },
    "kernelspec": {
      "name": "python3",
      "display_name": "Python 3"
    },
    "language_info": {
      "name": "python"
    },
    "accelerator": "GPU"
  },
  "cells": [
    {
      "cell_type": "code",
      "execution_count": 1,
      "metadata": {
        "colab": {
          "base_uri": "https://localhost:8080/"
        },
        "id": "hU8eSo0Ci179",
        "outputId": "31abcad3-10f1-4305-acb8-4ec13675ddf7"
      },
      "outputs": [
        {
          "output_type": "stream",
          "name": "stdout",
          "text": [
            "Fri Jul 11 13:18:36 2025       \n",
            "+-----------------------------------------------------------------------------------------+\n",
            "| NVIDIA-SMI 550.54.15              Driver Version: 550.54.15      CUDA Version: 12.4     |\n",
            "|-----------------------------------------+------------------------+----------------------+\n",
            "| GPU  Name                 Persistence-M | Bus-Id          Disp.A | Volatile Uncorr. ECC |\n",
            "| Fan  Temp   Perf          Pwr:Usage/Cap |           Memory-Usage | GPU-Util  Compute M. |\n",
            "|                                         |                        |               MIG M. |\n",
            "|=========================================+========================+======================|\n",
            "|   0  Tesla T4                       Off |   00000000:00:04.0 Off |                    0 |\n",
            "| N/A   48C    P8              9W /   70W |       0MiB /  15360MiB |      0%      Default |\n",
            "|                                         |                        |                  N/A |\n",
            "+-----------------------------------------+------------------------+----------------------+\n",
            "                                                                                         \n",
            "+-----------------------------------------------------------------------------------------+\n",
            "| Processes:                                                                              |\n",
            "|  GPU   GI   CI        PID   Type   Process name                              GPU Memory |\n",
            "|        ID   ID                                                               Usage      |\n",
            "|=========================================================================================|\n",
            "|  No running processes found                                                             |\n",
            "+-----------------------------------------------------------------------------------------+\n"
          ]
        }
      ],
      "source": [
        "!nvidia-smi\n",
        "\n"
      ]
    },
    {
      "cell_type": "code",
      "source": [
        "# This get the RAPIDS-Colab install files and test check your GPU.  Run this and the next cell only.\n",
        "# Please read the output of this cell.  If your Colab Instance is not RAPIDS compatible, it will warn you and give you remediation steps.\n",
        "!git clone https://github.com/rapidsai/rapidsai-csp-utils.git\n",
        "!python rapidsai-csp-utils/colab/pip-install.py\n"
      ],
      "metadata": {
        "colab": {
          "base_uri": "https://localhost:8080/"
        },
        "id": "S4Ri9TP8i46m",
        "outputId": "8b391bb2-fd8d-4a7a-9e13-3f9ccbc8a21a"
      },
      "execution_count": 2,
      "outputs": [
        {
          "output_type": "stream",
          "name": "stdout",
          "text": [
            "Cloning into 'rapidsai-csp-utils'...\n",
            "remote: Enumerating objects: 596, done.\u001b[K\n",
            "remote: Counting objects: 100% (162/162), done.\u001b[K\n",
            "remote: Compressing objects: 100% (80/80), done.\u001b[K\n",
            "remote: Total 596 (delta 128), reused 82 (delta 82), pack-reused 434 (from 3)\u001b[K\n",
            "Receiving objects: 100% (596/596), 195.77 KiB | 7.53 MiB/s, done.\n",
            "Resolving deltas: 100% (302/302), done.\n",
            "Installing RAPIDS remaining 25.04 libraries\n",
            "Using Python 3.11.13 environment at: /usr\n",
            "Resolved 173 packages in 1.76s\n",
            "Downloading cucim-cu12 (5.6MiB)\n",
            "Downloading cuml-cu12 (9.4MiB)\n",
            "Downloading libcuvs-cu12 (1.1GiB)\n",
            "Downloading pylibcudf-cu12 (26.4MiB)\n",
            "Downloading datashader (17.5MiB)\n",
            "Downloading dask (1.3MiB)\n",
            "Downloading shapely (2.4MiB)\n",
            "Downloading bokeh (6.6MiB)\n",
            "Downloading raft-dask-cu12 (274.9MiB)\n",
            "Downloading cudf-cu12 (1.7MiB)\n",
            "Downloading cugraph-cu12 (3.0MiB)\n",
            "Downloading rmm-cu12 (1.5MiB)\n",
            "Downloading ucx-py-cu12 (2.2MiB)\n",
            "Downloading libcuspatial-cu12 (31.1MiB)\n",
            "Downloading librmm-cu12 (2.9MiB)\n",
            "Downloading libcudf-cu12 (538.8MiB)\n",
            "Downloading libcugraph-cu12 (1.4GiB)\n",
            "Downloading cuspatial-cu12 (4.1MiB)\n",
            "Downloading pylibcugraph-cu12 (2.0MiB)\n",
            "Downloading cuproj-cu12 (1.1MiB)\n",
            "Downloading libkvikio-cu12 (2.0MiB)\n",
            "Downloading libcuml-cu12 (404.9MiB)\n",
            "Downloading libraft-cu12 (20.8MiB)\n",
            " Downloaded cuproj-cu12\n",
            " Downloaded rmm-cu12\n",
            " Downloaded shapely\n",
            " Downloaded cudf-cu12\n",
            " Downloaded datashader\n",
            " Downloaded libkvikio-cu12\n",
            " Downloaded pylibcugraph-cu12\n",
            " Downloaded dask\n",
            " Downloaded ucx-py-cu12\n",
            " Downloaded cugraph-cu12\n",
            " Downloaded bokeh\n",
            " Downloaded librmm-cu12\n",
            " Downloaded cuspatial-cu12\n",
            " Downloaded cuml-cu12\n",
            " Downloaded cucim-cu12\n",
            " Downloaded libcuspatial-cu12\n",
            " Downloaded pylibcudf-cu12\n",
            " Downloaded libraft-cu12\n",
            " Downloaded raft-dask-cu12\n",
            " Downloaded libcudf-cu12\n",
            " Downloaded libcuml-cu12\n",
            " Downloaded libcuvs-cu12\n",
            " Downloaded libcugraph-cu12\n",
            "Prepared 52 packages in 55.39s\n",
            "Uninstalled 29 packages in 822ms\n",
            "Installed 52 packages in 414ms\n",
            " + arrow==1.3.0\n",
            " - bokeh==3.7.3\n",
            " + bokeh==3.6.3\n",
            " + cucim-cu12==25.4.0\n",
            " - cudf-cu12==25.2.1 (from https://pypi.nvidia.com/cudf-cu12/cudf_cu12-25.2.1-cp311-cp311-manylinux_2_24_x86_64.manylinux_2_28_x86_64.whl)\n",
            " + cudf-cu12==25.4.0\n",
            " + cugraph-cu12==25.4.1\n",
            " - cuml-cu12==25.2.1\n",
            " + cuml-cu12==25.4.0\n",
            " + cuproj-cu12==25.4.0\n",
            " + cuspatial-cu12==25.4.0\n",
            " - cuvs-cu12==25.2.1\n",
            " + cuvs-cu12==25.4.0\n",
            " + cuxfilter-cu12==25.4.0\n",
            " - dask==2024.12.1\n",
            " + dask==2025.2.0\n",
            " - dask-cuda==25.2.0\n",
            " + dask-cuda==25.4.0\n",
            " - dask-cudf-cu12==25.2.2\n",
            " + dask-cudf-cu12==25.4.0\n",
            " + datashader==0.18.1\n",
            " - distributed==2024.12.1\n",
            " + distributed==2025.2.0\n",
            " - distributed-ucxx-cu12==0.42.0\n",
            " + distributed-ucxx-cu12==0.43.0\n",
            " + fqdn==1.5.1\n",
            " + isoduration==20.11.0\n",
            " - jupyter-client==6.1.12\n",
            " + jupyter-client==8.6.3\n",
            " + jupyter-events==0.12.0\n",
            " - jupyter-server==1.16.0\n",
            " + jupyter-server==2.16.0\n",
            " + jupyter-server-proxy==4.4.0\n",
            " + jupyter-server-terminals==0.5.3\n",
            " - libcudf-cu12==25.2.1 (from https://pypi.nvidia.com/libcudf-cu12/libcudf_cu12-25.2.1-py3-none-manylinux_2_28_x86_64.whl)\n",
            " + libcudf-cu12==25.4.0\n",
            " - libcugraph-cu12==25.2.0\n",
            " + libcugraph-cu12==25.4.1\n",
            " - libcuml-cu12==25.2.1\n",
            " + libcuml-cu12==25.4.0\n",
            " + libcuspatial-cu12==25.4.0\n",
            " - libcuvs-cu12==25.2.1\n",
            " + libcuvs-cu12==25.4.0\n",
            " - libkvikio-cu12==25.2.1\n",
            " + libkvikio-cu12==25.4.0\n",
            " - libraft-cu12==25.2.0\n",
            " + libraft-cu12==25.4.0\n",
            " + librmm-cu12==25.4.0\n",
            " - libucxx-cu12==0.42.0\n",
            " + libucxx-cu12==0.43.0\n",
            " - numba-cuda==0.2.0\n",
            " + numba-cuda==0.4.0\n",
            " - nx-cugraph-cu12==25.2.0 (from https://pypi.nvidia.com/nx-cugraph-cu12/nx_cugraph_cu12-25.2.0-py3-none-any.whl)\n",
            " + nx-cugraph-cu12==25.4.0\n",
            " + overrides==7.7.0\n",
            " + pyct==0.5.0\n",
            " - pylibcudf-cu12==25.2.1 (from https://pypi.nvidia.com/pylibcudf-cu12/pylibcudf_cu12-25.2.1-cp311-cp311-manylinux_2_24_x86_64.manylinux_2_28_x86_64.whl)\n",
            " + pylibcudf-cu12==25.4.0\n",
            " - pylibcugraph-cu12==25.2.0\n",
            " + pylibcugraph-cu12==25.4.1\n",
            " - pylibraft-cu12==25.2.0\n",
            " + pylibraft-cu12==25.4.0\n",
            " + python-json-logger==3.3.0\n",
            " - raft-dask-cu12==25.2.0\n",
            " + raft-dask-cu12==25.4.0\n",
            " - rapids-dask-dependency==25.2.0\n",
            " + rapids-dask-dependency==25.4.0\n",
            " + rapids-logger==0.1.1\n",
            " + rfc3339-validator==0.1.4\n",
            " + rfc3986-validator==0.1.1\n",
            " - rmm-cu12==25.2.0\n",
            " + rmm-cu12==25.4.0\n",
            " - shapely==2.1.1\n",
            " + shapely==2.0.7\n",
            " + simpervisor==1.0.0\n",
            " + types-python-dateutil==2.9.0.20250708\n",
            " - ucx-py-cu12==0.42.0\n",
            " + ucx-py-cu12==0.43.0\n",
            " - ucxx-cu12==0.42.0\n",
            " + ucxx-cu12==0.43.0\n",
            " + uri-template==1.3.0\n",
            "\n",
            "        ***********************************************************************\n",
            "        The pip install of RAPIDS is complete.\n",
            "\n",
            "        Please do not run any further installation from the conda based installation methods, as they may cause issues!\n",
            "\n",
            "        Please ensure that you're pulling from the git repo to remain updated with the latest working install scripts.\n",
            "\n",
            "        Troubleshooting:\n",
            "            - If there is an installation failure, please check back on RAPIDSAI owned templates/notebooks to see how to update your personal files.\n",
            "            - If an installation failure persists when using the latest script, please make an issue on https://github.com/rapidsai-community/rapidsai-csp-utils\n",
            "        ***********************************************************************\n",
            "        \n"
          ]
        }
      ]
    },
    {
      "cell_type": "code",
      "source": [],
      "metadata": {
        "id": "an8MWOAhoL1Q"
      },
      "execution_count": null,
      "outputs": []
    },
    {
      "cell_type": "markdown",
      "source": [
        "Q1. Data Preprocessing with cuDF vs panda\n",
        "a Load the dataset using both pandas and cudf. Record the load times.\n",
        "b Perform the following tasks with both libraries:\n",
        "• Display .info(), .describe()\n",
        "• Drop any rows with nulls (if any)\n",
        "• Convert the price column to log scale\n",
        "• Filter records for the last 5 years (based on date_of_transfer)\n",
        "c Compare the execution time for each task in pandas vs cudf."
      ],
      "metadata": {
        "id": "O4ZbIbaFpNmw"
      }
    },
    {
      "cell_type": "code",
      "source": [
        "import pandas as pd\n",
        "import cudf\n",
        "import time\n"
      ],
      "metadata": {
        "id": "Fkvv8gSipRe-"
      },
      "execution_count": 3,
      "outputs": []
    },
    {
      "cell_type": "code",
      "source": [
        "file_path = '/content/drive/MyDrive/price_paid_records.csv'\n"
      ],
      "metadata": {
        "id": "DyjsbtIJpT31"
      },
      "execution_count": 4,
      "outputs": []
    },
    {
      "cell_type": "code",
      "source": [
        "# Define column names\n",
        "columns = [\n",
        "    \"Transaction unique identifier\", \"Price\", \"Date of Transfer\", \"Property Type\",\n",
        "    \"Old/New\", \"Duration\", \"Town/City\", \"District\", \"County\",\n",
        "    \"PPDCategory Type\", \"Record Status - monthly file only\"\n",
        "]"
      ],
      "metadata": {
        "id": "-VeWoFWkpiow"
      },
      "execution_count": 5,
      "outputs": []
    },
    {
      "cell_type": "code",
      "source": [
        "from google.colab import drive\n",
        "drive.mount('/content/drive')\n"
      ],
      "metadata": {
        "colab": {
          "base_uri": "https://localhost:8080/"
        },
        "id": "zNTgtfaIpxlD",
        "outputId": "57130721-20a0-41ef-e4ac-c820539b404b"
      },
      "execution_count": 7,
      "outputs": [
        {
          "output_type": "stream",
          "name": "stdout",
          "text": [
            "Mounted at /content/drive\n"
          ]
        }
      ]
    },
    {
      "cell_type": "code",
      "source": [
        "file_path = '/content/drive/MyDrive/price_paid_records.csv'\n"
      ],
      "metadata": {
        "id": "pgFqkM7Lp1LT"
      },
      "execution_count": 11,
      "outputs": []
    },
    {
      "cell_type": "code",
      "source": [
        "import os\n",
        "for f in os.listdir('/content'):\n",
        "    print(f)\n"
      ],
      "metadata": {
        "colab": {
          "base_uri": "https://localhost:8080/"
        },
        "id": "ZdYLhyowqNhr",
        "outputId": "0bcd05da-bdea-4bcb-e2b5-01bb27df0706"
      },
      "execution_count": 12,
      "outputs": [
        {
          "output_type": "stream",
          "name": "stdout",
          "text": [
            ".config\n",
            "rapidsai-csp-utils\n",
            "drive\n",
            "sample_data\n"
          ]
        }
      ]
    },
    {
      "cell_type": "code",
      "source": [
        "# 1️⃣ Load CSV\n",
        "start = time.time()\n",
        "pdf = pd.read_csv(file_path, names=columns, header=0)\n",
        "pandas_load_time = time.time() - start\n",
        "\n",
        "start = time.time()\n",
        "gdf = cudf.read_csv(file_path, names=columns, header=0)\n",
        "cudf_load_time = time.time() - start"
      ],
      "metadata": {
        "id": "E_l0JxYTqQpT"
      },
      "execution_count": 13,
      "outputs": []
    },
    {
      "cell_type": "code",
      "source": [
        "print(\"Load Time:\")\n",
        "print(f\"Pandas: {pandas_load_time:.3f}s\")\n",
        "print(f\"cuDF:   {cudf_load_time:.3f}s\\n\")"
      ],
      "metadata": {
        "colab": {
          "base_uri": "https://localhost:8080/"
        },
        "id": "tD2u6RiRqY8Q",
        "outputId": "ddf60032-08af-4fd1-d395-46b032b26954"
      },
      "execution_count": 14,
      "outputs": [
        {
          "output_type": "stream",
          "name": "stdout",
          "text": [
            "Load Time:\n",
            "Pandas: 72.974s\n",
            "cuDF:   13.041s\n",
            "\n"
          ]
        }
      ]
    },
    {
      "cell_type": "code",
      "source": [
        "# info() and describe()\n",
        "start = time.time()\n",
        "_ = pdf.info()\n",
        "_ = pdf.describe()\n",
        "pandas_info_time = time.time() - start\n",
        "\n",
        "start = time.time()\n",
        "_ = gdf.info()\n",
        "_ = gdf.describe()\n",
        "cudf_info_time = time.time() - start\n",
        "\n",
        "print(\"📋 Info & Describe Time:\")\n",
        "print(f\"Pandas: {pandas_info_time:.3f}s\")\n",
        "print(f\"cuDF:   {cudf_info_time:.3f}s\\n\")"
      ],
      "metadata": {
        "colab": {
          "base_uri": "https://localhost:8080/"
        },
        "id": "az-jiEi7qwDH",
        "outputId": "00da68fc-6423-4ab9-c6f4-33e4a65d22f7"
      },
      "execution_count": 15,
      "outputs": [
        {
          "output_type": "stream",
          "name": "stdout",
          "text": [
            "<class 'pandas.core.frame.DataFrame'>\n",
            "RangeIndex: 22489348 entries, 0 to 22489347\n",
            "Data columns (total 11 columns):\n",
            " #   Column                             Dtype \n",
            "---  ------                             ----- \n",
            " 0   Transaction unique identifier      object\n",
            " 1   Price                              int64 \n",
            " 2   Date of Transfer                   object\n",
            " 3   Property Type                      object\n",
            " 4   Old/New                            object\n",
            " 5   Duration                           object\n",
            " 6   Town/City                          object\n",
            " 7   District                           object\n",
            " 8   County                             object\n",
            " 9   PPDCategory Type                   object\n",
            " 10  Record Status - monthly file only  object\n",
            "dtypes: int64(1), object(10)\n",
            "memory usage: 1.8+ GB\n",
            "<class 'cudf.core.dataframe.DataFrame'>\n",
            "RangeIndex: 22489348 entries, 0 to 22489347\n",
            "Data columns (total 11 columns):\n",
            " #   Column                             Dtype\n",
            "---  ------                             -----\n",
            " 0   Transaction unique identifier      object\n",
            " 1   Price                              int64\n",
            " 2   Date of Transfer                   object\n",
            " 3   Property Type                      object\n",
            " 4   Old/New                            object\n",
            " 5   Duration                           object\n",
            " 6   Town/City                          object\n",
            " 7   District                           object\n",
            " 8   County                             object\n",
            " 9   PPDCategory Type                   object\n",
            " 10  Record Status - monthly file only  object\n",
            "dtypes: int64(1), object(10)\n",
            "memory usage: 2.9+ GB\n",
            "📋 Info & Describe Time:\n",
            "Pandas: 1.976s\n",
            "cuDF:   0.609s\n",
            "\n"
          ]
        }
      ]
    },
    {
      "cell_type": "code",
      "source": [
        "# Drop nulls\n",
        "start = time.time()\n",
        "pdf_clean = pdf.dropna()\n",
        "pandas_dropna_time = time.time() - start\n",
        "\n",
        "start = time.time()\n",
        "gdf_clean = gdf.dropna()\n",
        "cudf_dropna_time = time.time() - start\n",
        "\n",
        "print(\"🧹 Drop NA Time:\")\n",
        "print(f\"Pandas: {pandas_dropna_time:.3f}s\")\n",
        "print(f\"cuDF:   {cudf_dropna_time:.3f}s\\n\")"
      ],
      "metadata": {
        "colab": {
          "base_uri": "https://localhost:8080/"
        },
        "id": "ISD8T4XQqxnu",
        "outputId": "3e680dfe-cffe-4c6e-e497-0b110d012247"
      },
      "execution_count": 16,
      "outputs": [
        {
          "output_type": "stream",
          "name": "stdout",
          "text": [
            "🧹 Drop NA Time:\n",
            "Pandas: 13.572s\n",
            "cuDF:   0.066s\n",
            "\n"
          ]
        }
      ]
    },
    {
      "cell_type": "code",
      "source": [
        "import numpy as np\n",
        "import cupy as cp\n",
        "#Log transform\n",
        "start = time.time()\n",
        "pdf_clean[\"log_price\"] = np.log1p(pdf_clean[\"Price\"])\n",
        "pandas_log_time = time.time() - start\n",
        "\n",
        "start = time.time()\n",
        "gdf_clean[\"log_price\"] = cp.log1p(gdf_clean[\"Price\"])\n",
        "cudf_log_time = time.time() - start\n",
        "\n",
        "print(\"Log Transform Time:\")\n",
        "print(f\"Pandas: {pandas_log_time:.3f}s\")\n",
        "print(f\"cuDF:   {cudf_log_time:.3f}s\\n\")"
      ],
      "metadata": {
        "colab": {
          "base_uri": "https://localhost:8080/"
        },
        "id": "FxjgRiv4q1_O",
        "outputId": "8038d33d-2031-46e1-ad2a-560175b9280c"
      },
      "execution_count": 18,
      "outputs": [
        {
          "output_type": "stream",
          "name": "stdout",
          "text": [
            "Log Transform Time:\n",
            "Pandas: 0.436s\n",
            "cuDF:   0.692s\n",
            "\n"
          ]
        }
      ]
    },
    {
      "cell_type": "code",
      "source": [
        "# ✅ Set the cutoff date (using pandas datetime works fine)\n",
        "cutoff_date = pd.to_datetime(\"2019-01-01\")\n",
        "\n",
        "# 🕒 Pandas Filtering\n",
        "start = time.time()\n",
        "pdf_clean[\"Date of Transfer\"] = pd.to_datetime(pdf_clean[\"Date of Transfer\"], errors=\"coerce\")\n",
        "pdf_recent = pdf_clean[pdf_clean[\"Date of Transfer\"] >= cutoff_date]\n",
        "pandas_filter_time = time.time() - start\n",
        "\n",
        "# 🕒 cuDF Filtering\n",
        "start = time.time()\n",
        "gdf_clean[\"Date of Transfer\"] = cudf.to_datetime(gdf_clean[\"Date of Transfer\"])  # removed errors='coerce'\n",
        "gdf_recent = gdf_clean[gdf_clean[\"Date of Transfer\"] >= cutoff_date]\n",
        "cudf_filter_time = time.time() - start\n",
        "\n",
        "# 🖨️ Output timings\n",
        "print(\"📅 Date Filter Time:\")\n",
        "print(f\"Pandas: {pandas_filter_time:.3f}s\")\n",
        "print(f\"cuDF:   {cudf_filter_time:.3f}s\\n\")\n"
      ],
      "metadata": {
        "colab": {
          "base_uri": "https://localhost:8080/"
        },
        "id": "XMah6vGcrw1t",
        "outputId": "75be8ae1-a960-461b-cd24-0287f61988a8"
      },
      "execution_count": 20,
      "outputs": [
        {
          "output_type": "stream",
          "name": "stdout",
          "text": [
            "📅 Date Filter Time:\n",
            "Pandas: 1.064s\n",
            "cuDF:   0.303s\n",
            "\n"
          ]
        }
      ]
    },
    {
      "cell_type": "code",
      "source": [
        "print(\"📊 Final Time Comparison Summary (seconds):\")\n",
        "print(f\"{'Task':30} {'Pandas':>10} {'cuDF':>10}\")\n",
        "print(f\"{'-'*50}\")\n",
        "print(f\"{'Load CSV':30} {pandas_load_time:10.3f} {cudf_load_time:10.3f}\")\n",
        "print(f\"{'Info & Describe':30} {pandas_info_time:10.3f} {cudf_info_time:10.3f}\")\n",
        "print(f\"{'Drop NA':30} {pandas_dropna_time:10.3f} {cudf_dropna_time:10.3f}\")\n",
        "print(f\"{'Log Transform':30} {pandas_log_time:10.3f} {cudf_log_time:10.3f}\")\n",
        "print(f\"{'Date Filter (Last 5 Years)':30} {pandas_filter_time:10.3f} {cudf_filter_time:10.3f}\")"
      ],
      "metadata": {
        "colab": {
          "base_uri": "https://localhost:8080/"
        },
        "id": "2aI1TI1CsCFt",
        "outputId": "2ddc92f8-1fe8-4b57-f974-4a4f897a8d67"
      },
      "execution_count": 21,
      "outputs": [
        {
          "output_type": "stream",
          "name": "stdout",
          "text": [
            "📊 Final Time Comparison Summary (seconds):\n",
            "Task                               Pandas       cuDF\n",
            "--------------------------------------------------\n",
            "Load CSV                           72.974     13.041\n",
            "Info & Describe                     1.976      0.609\n",
            "Drop NA                            13.572      0.066\n",
            "Log Transform                       0.436      0.692\n",
            "Date Filter (Last 5 Years)          1.064      0.303\n"
          ]
        }
      ]
    },
    {
      "cell_type": "markdown",
      "source": [
        "Q2: Predicting Price Category with cuML vs Scikit-learn\n",
        "a) Preprocess data to create features for ML:\n",
        "• Convert categorical fields (e.g., property_type, town, county) using label\n",
        "encoding\n",
        "• Create a target variable:\n",
        "• price_category = 1 if price > median_price else 0 (binary classification)\n",
        "b) Train a classification model (e.g., RandomForestClassifier) using:\n",
        "• scikit-learn\n",
        "• cuML\n",
        "c) Compare:\n",
        "• Model training time\n",
        "• Accuracy or F1-score\n",
        "• Prediction time"
      ],
      "metadata": {
        "id": "kaapmfaxtAMM"
      }
    },
    {
      "cell_type": "code",
      "source": [
        "import pandas as pd\n",
        "import cudf\n",
        "import numpy as np\n",
        "import cupy as cp\n",
        "from cuml.preprocessing import LabelEncoder as cuLabelEncoder\n",
        "from cuml.ensemble import RandomForestClassifier as cuRF\n",
        "from sklearn.ensemble import RandomForestClassifier as skRF\n",
        "from sklearn.preprocessing import LabelEncoder as skLabelEncoder\n",
        "from sklearn.metrics import accuracy_score, f1_score\n",
        "from sklearn.model_selection import train_test_split\n",
        "import time\n"
      ],
      "metadata": {
        "id": "m-h76b_9s3Zz"
      },
      "execution_count": 22,
      "outputs": []
    },
    {
      "cell_type": "code",
      "source": [
        "columns = [\n",
        "    \"Transaction unique identifier\", \"Price\", \"Date of Transfer\", \"Property Type\",\n",
        "    \"Old/New\", \"Duration\", \"Town/City\", \"District\", \"County\",\n",
        "    \"PPDCategory Type\", \"Record Status - monthly file only\"\n",
        "]\n",
        "\n",
        "file_path = '/content/drive/MyDrive/price_paid_records.csv'  # Adjust path\n",
        "\n",
        "# Load 1000 rows\n",
        "pdf = pd.read_csv(file_path, names=columns, header=0, nrows=1000)\n",
        "gdf = cudf.read_csv(file_path, names=columns, header=0, nrows=1000)\n"
      ],
      "metadata": {
        "id": "yUP6Xu79tDwv"
      },
      "execution_count": 24,
      "outputs": []
    },
    {
      "cell_type": "code",
      "source": [
        "# Choose same features\n",
        "features = [\"Price\", \"Property Type\", \"Town/City\", \"County\"]\n",
        "\n",
        "# Pandas version\n",
        "pdf = pdf[features].dropna()\n",
        "median_price = pdf[\"Price\"].median()\n",
        "pdf[\"price_category\"] = (pdf[\"Price\"] > median_price).astype(int)\n",
        "\n",
        "# Label Encoding with sklearn\n",
        "for col in [\"Property Type\", \"Town/City\", \"County\"]:\n",
        "    le = skLabelEncoder()\n",
        "    pdf[col] = le.fit_transform(pdf[col])\n",
        "\n",
        "X_pd = pdf.drop(\"price_category\", axis=1)\n",
        "y_pd = pdf[\"price_category\"]\n"
      ],
      "metadata": {
        "id": "Ic-6oZbKtILs"
      },
      "execution_count": 25,
      "outputs": []
    },
    {
      "cell_type": "code",
      "source": [
        "# cuDF version\n",
        "gdf = gdf[features].dropna()\n",
        "median_price_gpu = gdf[\"Price\"].median()\n",
        "gdf[\"price_category\"] = (gdf[\"Price\"] > median_price_gpu).astype(\"int32\")\n",
        "\n",
        "# Label Encoding with cuML\n",
        "for col in [\"Property Type\", \"Town/City\", \"County\"]:\n",
        "    le = cuLabelEncoder()\n",
        "    gdf[col] = le.fit_transform(gdf[col])\n",
        "\n",
        "X_gdf = gdf.drop(\"price_category\", axis=1)\n",
        "y_gdf = gdf[\"price_category\"]\n"
      ],
      "metadata": {
        "id": "6s9V9suttT7e"
      },
      "execution_count": 26,
      "outputs": []
    },
    {
      "cell_type": "code",
      "source": [
        "X_train_pd, X_test_pd, y_train_pd, y_test_pd = train_test_split(X_pd, y_pd, test_size=0.2, random_state=42)\n",
        "\n",
        "start = time.time()\n",
        "sk_model = skRF(n_estimators=100, random_state=42)\n",
        "sk_model.fit(X_train_pd, y_train_pd)\n",
        "sk_train_time = time.time() - start\n",
        "\n",
        "start = time.time()\n",
        "y_pred_pd = sk_model.predict(X_test_pd)\n",
        "sk_pred_time = time.time() - start\n",
        "\n",
        "sk_acc = accuracy_score(y_test_pd, y_pred_pd)\n",
        "sk_f1 = f1_score(y_test_pd, y_pred_pd)\n"
      ],
      "metadata": {
        "id": "8IIU4b98tWbo"
      },
      "execution_count": 27,
      "outputs": []
    },
    {
      "cell_type": "code",
      "source": [
        "X_train_gdf, X_test_gdf, y_train_gdf, y_test_gdf = train_test_split(X_gdf, y_gdf, test_size=0.2, random_state=42)\n",
        "\n",
        "start = time.time()\n",
        "cu_model = cuRF(n_estimators=100, random_state=42)\n",
        "cu_model.fit(X_train_gdf, y_train_gdf)\n",
        "cu_train_time = time.time() - start\n",
        "\n",
        "start = time.time()\n",
        "y_pred_gdf = cu_model.predict(X_test_gdf)\n",
        "cu_pred_time = time.time() - start\n",
        "\n",
        "# Convert predictions to CPU for scoring\n",
        "cu_acc = accuracy_score(y_test_gdf.to_pandas(), y_pred_gdf.to_pandas())\n",
        "cu_f1 = f1_score(y_test_gdf.to_pandas(), y_pred_gdf.to_pandas())\n"
      ],
      "metadata": {
        "colab": {
          "base_uri": "https://localhost:8080/"
        },
        "id": "v5bnkPyttYwe",
        "outputId": "16444e41-40a9-494c-a876-76bf8932a122"
      },
      "execution_count": 28,
      "outputs": [
        {
          "output_type": "stream",
          "name": "stderr",
          "text": [
            "/usr/local/lib/python3.11/dist-packages/cuml/internals/api_decorators.py:317: UserWarning: For reproducible results in Random Forest Classifier or for almost reproducible results in Random Forest Regressor, n_streams=1 is recommended. If n_streams is > 1, results may vary due to stream/thread timing differences, even when random_state is set\n",
            "  return init_func(self, *args, **kwargs)\n"
          ]
        }
      ]
    },
    {
      "cell_type": "code",
      "source": [
        "print(\"🔍 Model Comparison (1000 Samples)\\n\")\n",
        "print(f\"{'Metric':25} {'scikit-learn':>15} {'cuML (GPU)':>15}\")\n",
        "print(\"-\" * 60)\n",
        "print(f\"{'Train Time (s)':25} {sk_train_time:15.4f} {cu_train_time:15.4f}\")\n",
        "print(f\"{'Prediction Time (s)':25} {sk_pred_time:15.4f} {cu_pred_time:15.4f}\")\n",
        "print(f\"{'Accuracy':25} {sk_acc:15.4f} {cu_acc:15.4f}\")\n",
        "print(f\"{'F1 Score':25} {sk_f1:15.4f} {cu_f1:15.4f}\")\n"
      ],
      "metadata": {
        "colab": {
          "base_uri": "https://localhost:8080/"
        },
        "id": "Tnw4703otavh",
        "outputId": "c34123b8-f54d-4a73-f61a-2a54af29eaa2"
      },
      "execution_count": 29,
      "outputs": [
        {
          "output_type": "stream",
          "name": "stdout",
          "text": [
            "🔍 Model Comparison (1000 Samples)\n",
            "\n",
            "Metric                       scikit-learn      cuML (GPU)\n",
            "------------------------------------------------------------\n",
            "Train Time (s)                     0.3793          4.7260\n",
            "Prediction Time (s)                0.0318          0.5506\n",
            "Accuracy                           1.0000          0.8000\n",
            "F1 Score                           1.0000          0.7959\n"
          ]
        }
      ]
    },
    {
      "cell_type": "markdown",
      "source": [
        "Q3: Graph Analysis with cuGraph vs NetworkX\n",
        "a) Construct a graph from the dataset:\n",
        "• Nodes: Unique postcodes\n",
        "• Edges: Connect postcodes from the same town or within the\n",
        "same county\n",
        "b) For both cuGraph and NetworkX, compute:\n",
        "• Degree centrality\n",
        "• Connected components\n",
        "• PageRank (if applicable)\n",
        "c) Time and compare results. Comment on:\n",
        "• Performance differences\n",
        "• Any challenges in using cuGraph (format conversion, graph types)"
      ],
      "metadata": {
        "id": "T0Ag8JqbttwV"
      }
    },
    {
      "cell_type": "code",
      "source": [
        "!pip install cugraph -q"
      ],
      "metadata": {
        "colab": {
          "base_uri": "https://localhost:8080/"
        },
        "id": "A7PtkOLHtfVp",
        "outputId": "a99a1ed1-3dc0-4dec-9914-4860f14332f4"
      },
      "execution_count": 30,
      "outputs": [
        {
          "output_type": "stream",
          "name": "stdout",
          "text": [
            "  Preparing metadata (setup.py) ... \u001b[?25l\u001b[?25hdone\n",
            "  \u001b[1;31merror\u001b[0m: \u001b[1msubprocess-exited-with-error\u001b[0m\n",
            "  \n",
            "  \u001b[31m×\u001b[0m \u001b[32mpython setup.py bdist_wheel\u001b[0m did not run successfully.\n",
            "  \u001b[31m│\u001b[0m exit code: \u001b[1;36m1\u001b[0m\n",
            "  \u001b[31m╰─>\u001b[0m See above for output.\n",
            "  \n",
            "  \u001b[1;35mnote\u001b[0m: This error originates from a subprocess, and is likely not a problem with pip.\n",
            "  Building wheel for cugraph (setup.py) ... \u001b[?25lerror\n",
            "\u001b[31m  ERROR: Failed building wheel for cugraph\u001b[0m\u001b[31m\n",
            "\u001b[0m\u001b[31mERROR: ERROR: Failed to build installable wheels for some pyproject.toml based projects (cugraph)\u001b[0m\u001b[31m\n",
            "\u001b[0m\u001b[?25h"
          ]
        }
      ]
    },
    {
      "cell_type": "code",
      "source": [
        "cols = [\n",
        "    \"Transaction unique identifier\", \"Price\", \"Date of Transfer\", \"Postcode\", \"Property Type\",\n",
        "    \"Old/New\", \"Duration\", \"Town/City\", \"District\", \"County\",\n",
        "    \"PPDCategory Type\", \"Record Status - monthly file only\"\n",
        "]\n"
      ],
      "metadata": {
        "id": "JEER3iNitzAz"
      },
      "execution_count": 32,
      "outputs": []
    },
    {
      "cell_type": "code",
      "source": [
        "cols = [\n",
        "    \"Transaction unique identifier\",  # 0\n",
        "    \"Price\",                          # 1\n",
        "    \"Date of Transfer\",               # 2\n",
        "    \"Postcode\",                       # 3\n",
        "    \"Property Type\",                  # 4\n",
        "    \"Old/New\",                        # 5\n",
        "    \"Duration\",                       # 6\n",
        "    \"PAON\",                           # 7\n",
        "    \"SAON\",                           # 8\n",
        "    \"Street\",                         # 9\n",
        "    \"Locality\",                       # 10\n",
        "    # Optional: add \"Town/City\", \"District\", \"County\", etc., if it's the *enhanced* version of the dataset.\n",
        "]\n"
      ],
      "metadata": {
        "id": "9EsLhHhPt8Mt"
      },
      "execution_count": 33,
      "outputs": []
    },
    {
      "cell_type": "code",
      "source": [
        "cols = [\n",
        "    \"Transaction unique identifier\", \"Price\", \"Date of Transfer\", \"Postcode\", \"Property Type\",\n",
        "    \"Old/New\", \"Duration\", \"PAON\", \"SAON\", \"Street\", \"Locality\"\n",
        "]\n",
        "\n",
        "# Load first 1000 rows\n",
        "pdf = pd.read_csv(file_path, names=cols, header=0, nrows=1000)\n",
        "gdf = cudf.read_csv(file_path, names=cols, header=0, nrows=1000)\n"
      ],
      "metadata": {
        "id": "r6J-N-6buSIv"
      },
      "execution_count": 34,
      "outputs": []
    },
    {
      "cell_type": "code",
      "source": [
        "import pandas as pd\n",
        "import cudf\n",
        "import networkx as nx\n",
        "import cugraph\n",
        "import time\n",
        "\n",
        "\n"
      ],
      "metadata": {
        "id": "He53-bCbuUuy"
      },
      "execution_count": 36,
      "outputs": []
    },
    {
      "cell_type": "code",
      "source": [
        "print(pdf.columns.tolist())\n"
      ],
      "metadata": {
        "colab": {
          "base_uri": "https://localhost:8080/"
        },
        "id": "8G0Olh6Du2IE",
        "outputId": "e7307b8b-e84c-4c49-a037-a6426d114b03"
      },
      "execution_count": 38,
      "outputs": [
        {
          "output_type": "stream",
          "name": "stdout",
          "text": [
            "['Transaction unique identifier', 'Price', 'Date of Transfer', 'Postcode', 'Property Type', 'Old/New', 'Duration', 'PAON', 'SAON', 'Street', 'Locality']\n"
          ]
        }
      ]
    },
    {
      "cell_type": "code",
      "source": [
        "from itertools import combinations\n",
        "\n",
        "def build_edges(df, group_col):\n",
        "    edges = set()\n",
        "    for _, group in df.groupby(group_col):\n",
        "        postcodes = group[\"Postcode\"].dropna().unique()\n",
        "        for src, dst in combinations(postcodes, 2):\n",
        "            edges.add((src, dst))\n",
        "    return list(edges)\n",
        "\n",
        "# ✅ Use Locality and Street instead\n",
        "edges_locality = build_edges(pdf, \"Locality\")\n",
        "edges_street = build_edges(pdf, \"Street\")\n",
        "\n",
        "# Combine and deduplicate\n",
        "edges_all = list(set(edges_locality + edges_street))\n",
        "edges_df = pd.DataFrame(edges_all, columns=[\"src\", \"dst\"])\n",
        "\n",
        "print(f\"✅ Total edges constructed: {len(edges_df)}\")\n"
      ],
      "metadata": {
        "colab": {
          "base_uri": "https://localhost:8080/"
        },
        "id": "_hzKj65QvCKn",
        "outputId": "81c1dd51-24ba-4100-fc9e-18724f8e6808"
      },
      "execution_count": 39,
      "outputs": [
        {
          "output_type": "stream",
          "name": "stdout",
          "text": [
            "✅ Total edges constructed: 6\n"
          ]
        }
      ]
    },
    {
      "cell_type": "code",
      "source": [
        "import networkx as nx\n",
        "import time\n",
        "\n",
        "# Build NetworkX graph\n",
        "G_nx = nx.Graph()\n",
        "G_nx.add_edges_from(edges_df.values)\n",
        "\n",
        "# Run NetworkX algorithms\n",
        "start = time.time()\n",
        "\n",
        "nx_deg = nx.degree_centrality(G_nx)\n",
        "nx_cc = list(nx.connected_components(G_nx))\n",
        "nx_pr = nx.pagerank(G_nx)\n",
        "\n",
        "nx_time = time.time() - start\n",
        "print(f\"✅ NetworkX analysis done in {nx_time:.4f} seconds\")\n"
      ],
      "metadata": {
        "colab": {
          "base_uri": "https://localhost:8080/"
        },
        "id": "aGys0LPovXGt",
        "outputId": "b8a8a993-9fa7-4840-fa40-19c5525b51f1"
      },
      "execution_count": 40,
      "outputs": [
        {
          "output_type": "stream",
          "name": "stdout",
          "text": [
            "✅ NetworkX analysis done in 0.0250 seconds\n"
          ]
        }
      ]
    },
    {
      "cell_type": "code",
      "source": [
        "import cudf\n",
        "import cugraph\n",
        "\n",
        "# Convert edge list to cuDF\n",
        "edges_cudf = cudf.DataFrame(edges_df)\n",
        "\n",
        "# cuGraph requires numeric node IDs → encode postcodes as integers\n",
        "unique_nodes = list(set(edges_df['src']) | set(edges_df['dst']))\n",
        "node_id_map = {val: idx for idx, val in enumerate(unique_nodes)}\n",
        "\n",
        "# Apply encoding\n",
        "edges_cudf['src'] = edges_cudf['src'].map(node_id_map)\n",
        "edges_cudf['dst'] = edges_cudf['dst'].map(node_id_map)\n",
        "\n",
        "# Create graph and run cuGraph algorithms\n",
        "start = time.time()\n",
        "\n",
        "G_cu = cugraph.Graph()\n",
        "G_cu.from_cudf_edgelist(edges_cudf, source='src', destination='dst', renumber=False)\n",
        "\n",
        "cu_deg = cugraph.degree_centrality(G_cu)\n",
        "cu_cc = cugraph.connected_components(G_cu)\n",
        "cu_pr = cugraph.pagerank(G_cu)\n",
        "\n",
        "cu_time = time.time() - start\n",
        "print(f\"✅ cuGraph analysis done in {cu_time:.4f} seconds\")\n"
      ],
      "metadata": {
        "colab": {
          "base_uri": "https://localhost:8080/"
        },
        "id": "ue6mc1AwvezX",
        "outputId": "bca033dd-069b-4e75-d327-7aa4d75e056d"
      },
      "execution_count": 41,
      "outputs": [
        {
          "output_type": "stream",
          "name": "stdout",
          "text": [
            "✅ cuGraph analysis done in 1.1885 seconds\n"
          ]
        },
        {
          "output_type": "stream",
          "name": "stderr",
          "text": [
            "/usr/local/lib/python3.11/dist-packages/cugraph/link_analysis/pagerank.py:232: UserWarning: Pagerank expects the 'store_transposed' flag to be set to 'True' for optimal performance during the graph creation\n",
            "  warnings.warn(warning_msg, UserWarning)\n"
          ]
        }
      ]
    },
    {
      "cell_type": "code",
      "source": [
        "print(\"\\n📊 Graph Analysis Comparison\")\n",
        "print(f\"{'Metric':30} {'NetworkX':>12} {'cuGraph':>12}\")\n",
        "print(\"-\" * 58)\n",
        "print(f\"{'Execution Time (s)':30} {nx_time:12.4f} {cu_time:12.4f}\")\n",
        "print(f\"{'# Nodes':30} {G_nx.number_of_nodes():12} {G_cu.number_of_vertices():12}\")\n",
        "print(f\"{'# Edges':30} {G_nx.number_of_edges():12} {G_cu.number_of_edges():12}\")\n",
        "print(f\"{'# Connected Components':30} {len(nx_cc):12} {cu_cc['labels'].nunique():12}\")\n"
      ],
      "metadata": {
        "colab": {
          "base_uri": "https://localhost:8080/"
        },
        "id": "2s9tyoqNvhf0",
        "outputId": "50fbf8ea-81aa-4923-f5e4-fdad25c4c405"
      },
      "execution_count": 43,
      "outputs": [
        {
          "output_type": "stream",
          "name": "stdout",
          "text": [
            "\n",
            "📊 Graph Analysis Comparison\n",
            "Metric                             NetworkX      cuGraph\n",
            "----------------------------------------------------------\n",
            "Execution Time (s)                   0.0250       1.1885\n",
            "# Nodes                                   4            4\n",
            "# Edges                                   6            2\n",
            "# Connected Components                    1            1\n"
          ]
        }
      ]
    },
    {
      "cell_type": "code",
      "source": [],
      "metadata": {
        "id": "i4sBkfWEvmH0"
      },
      "execution_count": null,
      "outputs": []
    }
  ]
}